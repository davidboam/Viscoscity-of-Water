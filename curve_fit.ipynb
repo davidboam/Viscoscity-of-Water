{
 "cells": [
  {
   "cell_type": "code",
   "execution_count": null,
   "id": "07bee45c",
   "metadata": {},
   "outputs": [],
   "source": [
    "%matplotlib inline\n",
    "import matplotlib.pyplot as plt\n",
    "import numpy\n",
    "import scipy.optimize\n",
    "import scipy.stats"
   ]
  },
  {
   "cell_type": "code",
   "execution_count": null,
   "id": "877e92c8",
   "metadata": {},
   "outputs": [],
   "source": [
    "x_values = numpy.array([0, 15, 30, 45, 60])\n",
    "y_values = numpy.array([70, 77, 83, 90, 100])\n",
    "y_errors = numpy.array([0.8, 0.7, 1.2, 1.1, 1.2])\n",
    "\n",
    "#x_values, y_values, y_errors = numpy.loadtxt(filename, unpack=True) # read columns of data from a file"
   ]
  },
  {
   "cell_type": "code",
   "execution_count": null,
   "id": "f1a8530f",
   "metadata": {},
   "outputs": [],
   "source": [
    "assert len(y_values) == len(x_values)\n",
    "assert len(y_errors) == len(y_values)\n",
    "\n",
    "plt.figure(figsize=(5,3))\n",
    "plt.errorbar(x_values, \n",
    "             y_values, \n",
    "             yerr=y_errors, # use y_errors array for y error bars\n",
    "             marker='o',    # circular markers at each datapoint\n",
    "             linestyle='None') # no connecting lines\n",
    "\n",
    "plt.xlabel('x data (units)') # axis labels and units\n",
    "plt.ylabel('y data (units)')\n",
    "plt.show() "
   ]
  },
  {
   "cell_type": "code",
   "execution_count": null,
   "id": "2462a80a",
   "metadata": {},
   "outputs": [],
   "source": [
    "def model_function(x, *params):\n",
    "    return params[0]*x + params[1]"
   ]
  },
  {
   "cell_type": "code",
   "execution_count": null,
   "id": "b36d0bab",
   "metadata": {},
   "outputs": [],
   "source": [
    "initial_values = numpy.array([0.5, 70.0]) # Initial guess for fit parameters"
   ]
  },
  {
   "cell_type": "code",
   "execution_count": null,
   "id": "47974af8",
   "metadata": {},
   "outputs": [],
   "source": [
    "popt, cov = scipy.optimize.curve_fit(model_function, # function to fit\n",
    "                                     x_values, # x data\n",
    "                                     y_values, # y data\n",
    "                                     sigma=y_errors, # array of error bars for the fit\n",
    "                                     absolute_sigma=True, # errors bars DO represent 1 std error\n",
    "                                     p0=initial_values, # starting point for fit\n",
    "                                     check_finite=True) # raise ValueError if NaN encountered (don't allow errors to pass)\n",
    "\n",
    "\n",
    "plt.figure(figsize=(5,3))\n",
    "plt.errorbar(x_values, \n",
    "             y_values, \n",
    "             yerr=y_errors, \n",
    "             marker='o', \n",
    "             linestyle='None')\n",
    "plt.xlabel('x data (units)') # Axis labels\n",
    "plt.ylabel('y data (units)')\n",
    "\n",
    "smooth_x = numpy.linspace(x_values[0], x_values[-1], 1000) # more points, over range of data\n",
    "plt.plot(smooth_x, \n",
    "         model_function(smooth_x , *popt), \n",
    "         color='r')\n",
    "plt.show()"
   ]
  },
  {
   "cell_type": "code",
   "execution_count": null,
   "id": "eb5bdba4",
   "metadata": {},
   "outputs": [],
   "source": [
    "def chi_squared(model_params, model, x_data, y_data, y_err):\n",
    "    return numpy.sum(((y_data - model(x_data, *model_params))/y_err)**2) # Note the `*model_params' here!\n",
    "\n",
    "\n",
    "chi_squared_min = chi_squared(popt, model_function, x_values, y_values, y_errors)\n",
    "print('chi^2_min = {}'.format(chi_squared_min))\n",
    "\n",
    "degrees_of_freedom = x_values.size - popt.size\n",
    "print('reduced chi^2 = {}'.format(chi_squared_min/degrees_of_freedom))\n",
    "print('P(chi^2_min, DoF) = {}'.format(scipy.stats.chi2.sf(chi_squared_min, degrees_of_freedom)))\n",
    "\n",
    "popt_errs = numpy.sqrt(numpy.diag(cov))\n",
    "\n",
    "for i, (val, err) in enumerate(zip(popt, popt_errs)):\n",
    "    print('optimised parameter[{}] = ({} +/- {}) units'.format(i, val, err))\n",
    "    "
   ]
  }
 ],
 "metadata": {
  "kernelspec": {
   "display_name": "Python 3 (ipykernel)",
   "language": "python",
   "name": "python3"
  },
  "language_info": {
   "codemirror_mode": {
    "name": "ipython",
    "version": 3
   },
   "file_extension": ".py",
   "mimetype": "text/x-python",
   "name": "python",
   "nbconvert_exporter": "python",
   "pygments_lexer": "ipython3",
   "version": "3.9.12"
  }
 },
 "nbformat": 4,
 "nbformat_minor": 5
}
