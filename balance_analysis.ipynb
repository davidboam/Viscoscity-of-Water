{
 "cells": [
  {
   "cell_type": "code",
   "execution_count": null,
   "metadata": {},
   "outputs": [],
   "source": [
    "# Import relevant modules\n",
    "%matplotlib inline\n",
    "import matplotlib.pyplot as plt\n",
    "import numpy"
   ]
  },
  {
   "cell_type": "markdown",
   "metadata": {},
   "source": [
    "# Extract information from massbalance.py datafiles\n",
    "\n",
    "Turn the data from measurements made using `massbalance.py` into `numpy` arrays that can be copied/pasted into `curve_fit.ipynb` notebook. \n",
    "\n",
    "Define a list of datafiles from `massbalance.py` to be analysed. This needs to be defined as a 'list' [enclosed in square brackets] even if there is only one datafile. The filenames need to be strings, and include the file extension! These files need to be in the same directory as this notebook (see browser address-bar), otherwise it won't know where to find them..."
   ]
  },
  {
   "cell_type": "code",
   "execution_count": null,
   "metadata": {},
   "outputs": [],
   "source": [
    "files = ['mass1.dat', 'mass2.dat', 'mass3.txt']"
   ]
  },
  {
   "cell_type": "markdown",
   "metadata": {},
   "source": [
    "The value below is used to generate an array of (homoscedastic) error-bars for the measured mass. **The value stated is just an example, you will need to thibnk about this and modify this value to be more suitable for your experiment!**"
   ]
  },
  {
   "cell_type": "code",
   "execution_count": null,
   "metadata": {},
   "outputs": [],
   "source": [
    "mass_error = 0.1 # g - YOU need to THINK about this!"
   ]
  },
  {
   "cell_type": "markdown",
   "metadata": {},
   "source": [
    "Below we read in the various datafiles and plot a graph of the dataset:"
   ]
  },
  {
   "cell_type": "code",
   "execution_count": null,
   "metadata": {},
   "outputs": [],
   "source": [
    "plt.figure()\n",
    "for file in files:\n",
    "    time, mass = numpy.loadtxt(file, unpack=True)\n",
    "    plt.errorbar(time, mass, \n",
    "                 yerr=mass_error*numpy.ones(len(mass)),\n",
    "                 marker='o', linestyle='None')\n",
    "plt.xlabel('time (ms)')\n",
    "plt.ylabel('mass (g)')\n",
    "plt.show()"
   ]
  },
  {
   "cell_type": "markdown",
   "metadata": {},
   "source": [
    "We can also easily output the data in a format suitable to copy/paste into `curve_fit.ipynb` notebook."
   ]
  },
  {
   "cell_type": "code",
   "execution_count": null,
   "metadata": {},
   "outputs": [],
   "source": [
    "for file in files:\n",
    "    print(file)                                     # Print the filename to keep track of datasets\n",
    "    time, mass = numpy.loadtxt(file, unpack=True)   # Load in the 2-column data saved by massbalance.py\n",
    "    print('time [ms] = ', repr(time))              # Output time and mass data in suitable format\n",
    "    print('mass [g] = ', repr(mass))                # BE AWARE THAT UNITS ARE GRAMS AND MILLISECONDS!\n",
    "                                                    # Output error-bars for mass in suitable format\n",
    "    print('mass_err [units?] = ', repr(mass_error*numpy.ones_like(mass)), '\\n')   "
   ]
  }
 ],
 "metadata": {
  "kernelspec": {
   "display_name": "Python 3 (ipykernel)",
   "language": "python",
   "name": "python3"
  },
  "language_info": {
   "codemirror_mode": {
    "name": "ipython",
    "version": 3
   },
   "file_extension": ".py",
   "mimetype": "text/x-python",
   "name": "python",
   "nbconvert_exporter": "python",
   "pygments_lexer": "ipython3",
   "version": "3.9.12"
  }
 },
 "nbformat": 4,
 "nbformat_minor": 2
}
