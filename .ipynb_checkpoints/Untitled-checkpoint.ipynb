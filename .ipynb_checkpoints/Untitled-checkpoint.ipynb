{
 "cells": [
  {
   "cell_type": "code",
   "execution_count": null,
   "id": "8563f9e8",
   "metadata": {},
   "outputs": [],
   "source": [
    "import numpy as np\n",
    "from scipy.optimize import curve_fit\n",
    "import matplotlib.pyplot as plt\n",
    "\n",
    "def linear_function(x, m, b):\n",
    "    return m * x + b\n",
    "\n",
    "def chi_squared_fit(x, y):\n",
    "    popt, pcov = curve_fit(linear_function, x, y)\n",
    "    return popt[0], np.sqrt(np.diag(pcov))[0]\n",
    "\n",
    "def main():\n",
    "    for distance in range(9, 15):\n",
    "        for measurement in range(1, 4):\n",
    "            filename = f\"Redtube/datah-{distance}cm-{measurement}.txt\"\n",
    "            \n",
    "            # Load data from file\n",
    "            data = np.loadtxt(filename)\n",
    "            x = data[:, 0]\n",
    "            y = data[:, 1]\n",
    "\n",
    "            # Perform chi-squared fit\n",
    "            gradient, error = chi_squared_fit(x, y)\n",
    "\n",
    "            # Print or store results\n",
    "            print(f\"For {filename}:\")\n",
    "            print(f\"Gradient (m): {gradient}\")\n",
    "            print(f\"Error in Gradient: {error}\")\n",
    "            print()\n",
    "\n",
    "            # Plot the original data and the fit\n",
    "            plt.scatter(x, y, label='Data')\n",
    "            plt.plot(x, linear_function(x, gradient, 0), label='Linear Fit')\n",
    "            plt.xlabel('X-axis label')  # Add appropriate x-axis label\n",
    "            plt.ylabel('Y-axis label')  # Add appropriate y-axis label\n",
    "            plt.title(f\"Linear Fit for {filename}\")\n",
    "            plt.legend()\n",
    "            plt.show()\n",
    "\n",
    "if __name__ == \"__main__\":\n",
    "    main()\n"
   ]
  }
 ],
 "metadata": {
  "kernelspec": {
   "display_name": "Python 3 (ipykernel)",
   "language": "python",
   "name": "python3"
  },
  "language_info": {
   "codemirror_mode": {
    "name": "ipython",
    "version": 3
   },
   "file_extension": ".py",
   "mimetype": "text/x-python",
   "name": "python",
   "nbconvert_exporter": "python",
   "pygments_lexer": "ipython3",
   "version": "3.9.12"
  }
 },
 "nbformat": 4,
 "nbformat_minor": 5
}
